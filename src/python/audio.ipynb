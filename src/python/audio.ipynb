{
 "cells": [
  {
   "cell_type": "code",
   "execution_count": 113,
   "metadata": {},
   "outputs": [],
   "source": [
    "from pynq import Overlay\n",
    "ol = Overlay(\"overlay.bit\")\n",
    "ol.download()\n",
    "\n",
    "def send_byte(register, byte):\n",
    "    # i2c address is 0x76, but axi_iic uses 7 bit addresses, so shift right by 1\n",
    "    ol.axi_iic_0.send(0x3b, bytes([0x40]) + bytes([register]) + bytes([byte]), 3)\n",
    "\n",
    "def send_bytes(register, payload):\n",
    "    ol.axi_iic_0.send(0x3b, bytes([0x40]) + bytes([register]) + bytes(payload), 2 + len(payload))\n",
    "\n",
    "import time\n",
    "\n",
    "# R0 (0x00): enable PLL, set input clock frequency to 1024*f_s, disable core clock\n",
    "send_byte(0x00, 0x0E)\n",
    "\n",
    "# R1 (0x01): set PLL frequency to (4 + 0.9152)*f_MCLK = 4.9152*10MHz \n",
    "# also enable PLL\n",
    "send_bytes(0x01, [0x02, 0x71, 0x02, 0x3C, 0x21, 0x01])\n",
    "\n",
    "# wait until PLL lock is achieved\n",
    "rxdata = bytes(6)\n",
    "count =  1\n",
    "while True:\n",
    "    ol.axi_iic_0.send(0x3b, bytes([0x40, 0x02]), 2)\n",
    "    ol.axi_iic_0.receive(0x3b, rxdata, 6)\n",
    "    if rxdata[5] & 0x02 != 0:\n",
    "        break\n",
    "    if count > 100:\n",
    "        print(\"failed to lock pll\")\n",
    "        break\n",
    "    count += 1\n",
    "    time.sleep(0.1)\n",
    "\n",
    "# R0 (0x00): enable core clock\n",
    "send_byte(0x00, 0x0F)\n",
    "\n",
    "# wait for core to start up \n",
    "time.sleep(1)\n",
    "\n",
    "# R15 (0x15): Put CODEC in Master mode\n",
    "send_byte(0x15, 0x01)\n",
    "\n",
    "# enable ADC on both channels with normal polarity; enable high-pass antialiasing filter\n",
    "send_byte(0x19, 0x73)\n",
    "# enable Mixer 1 (left record channel)\n",
    "send_byte(0x0A, 0x01)\n",
    "# enable Mixer 2 (right record channel)\n",
    "send_byte(0x0C, 0x01)\n",
    "# set mic boost gain to 20dB\n",
    "send_byte(0x0B, 0x07)\n",
    "send_byte(0x0D, 0x07)\n",
    "\n",
    "# enable ALC control and noise gate\n",
    "send_byte(0x14, 0x20)\n",
    "\n",
    "# enable mixer output on L/R channels\n",
    "# R22 (0x1C): unmute left DAC input to left channel playback mixer\n",
    "# R24 (0x1E): unmute left DAC input to left channel playback mixer\n",
    "send_byte(0x1C, 0x21)\n",
    "send_byte(0x1E, 0x41)\n",
    "\n",
    "# enable headphone playback on L/R channels\n",
    "# R29 (0x23): set volume to 0dB (111001xx) and unmute and enable headphone volume control (xxxxxx11)\n",
    "# R30 (0x24): set volume to 0dB (111001xx) and unmute and enable headphone volume control (xxxxxx11)\n",
    "send_byte(0x23, 0xA7)\n",
    "send_byte(0x24, 0xA7)\n",
    "\n",
    "# Enable playback L/R channels\n",
    "# R35 (0x29): leave bias control in default normal operation, enable left and right channel playback\n",
    "send_byte(0x29, 0x03)\n",
    "\n",
    "# Enable DAC for both channels\n",
    "# R36 (0x2A): leave in stereo mode, enable both left and right DACs\n",
    "send_byte(0x2A, 0x03)\n",
    "\n",
    "# Set DAC/ADC i/o to use i2s data\n",
    "# R58 (0xF2): set serial input [L0, R0] to DAC L/R\n",
    "# R59 (0xF3): set ADC L/R to serial output [L0, R0]\n",
    "send_byte(0xF2, 0x01)\n",
    "send_byte(0xF3, 0x01)\n",
    "\n",
    "# R65 (0xF9): enable all digital clocks\n",
    "send_byte(0xF9, 0x7F)\n",
    "# R66 (0xFA): enable digital clock generator 0 and 1\n",
    "send_byte(0xFA, 0x03)"
   ]
  },
  {
   "cell_type": "code",
   "execution_count": 114,
   "metadata": {},
   "outputs": [],
   "source": [
    "# enable i2s output\n",
    "ol.axi_gpio_i2s_enable.write(0,1)\n",
    "# configure fm synth params\n",
    "ol.axi_gpio_harmonicity.write(0,0x0000)\n",
    "ol.axi_gpio_mod_index.write(0,0x0000)"
   ]
  },
  {
   "cell_type": "code",
   "execution_count": 9,
   "metadata": {},
   "outputs": [],
   "source": [
    "# disable i2s output\n",
    "ol.axi_gpio_i2s_enable.write(0,0)"
   ]
  },
  {
   "cell_type": "code",
   "execution_count": null,
   "metadata": {},
   "outputs": [],
   "source": [
    "import numpy as np\n",
    "import time\n",
    "\n",
    "def start_capture():\n",
    "    ol.axi_dbg_cap.write(0,1)\n",
    "    ol.axi_dbg_cap.write(0,0)\n",
    "\n",
    "def dbg_read_next():\n",
    "    ol.axi_dbg_next.write(0,1)\n",
    "    ol.axi_dbg_next.write(0,0)\n",
    "    return ol.axi_dbg_data.read(0)\n",
    "\n",
    "def dump_frame():\n",
    "    phase = np.zeros(4096)\n",
    "    re = np.zeros(4096)\n",
    "    im = np.zeros(4096)\n",
    "    max_k_min_n_concat = np.zeros(4096)\n",
    "    current_phase = np.zeros(4096)\n",
    "    last_phase = np.zeros(4096)\n",
    "    for i in range(4096):\n",
    "        phase[i] = ol.axi_dbg_data_0.read()\n",
    "        re[i] = ol.axi_dbg_data_1.read()\n",
    "        im[i] = ol.axi_dbg_data_2.read()\n",
    "        max_k_min_n_concat[i] = ol.axi_dbg_data_3.read()\n",
    "        current_phase[i] = ol.axi_dbg_data_4.read()\n",
    "        last_phase[i] = ol.axi_dbg_data_5.read()\n",
    "        ol.axi_dbg_next.write(0,1)\n",
    "        ol.axi_dbg_next.write(0,0)\n",
    "    return phase, re, im, max_k_min_n_concat, current_phase, last_phase\n",
    "\n",
    "start_capture()\n",
    "time.sleep(1)\n",
    "phase, re, im, max_k_min_n, current_phase, last_phase = dump_frame()"
   ]
  },
  {
   "cell_type": "code",
   "execution_count": null,
   "metadata": {},
   "outputs": [],
   "source": [
    "import matplotlib.pyplot as plt\n",
    "\n",
    "def hex_to_int(hexnum, bits):\n",
    "    if hexnum >= 2**(bits - 1):\n",
    "        return hexnum - 2**bits\n",
    "    return hexnum\n",
    "\n",
    "def phase_hex_to_float(hexnum):\n",
    "    if hexnum >= 0x800000:\n",
    "        return (hexnum - 2**24)/(2**21)\n",
    "    return hexnum/(2**21)\n",
    "\n",
    "re_scaled = [hex_to_int(int(r), 24) for r in re]\n",
    "im_scaled = [hex_to_int(int(i), 24) for i in im]\n",
    "mag_scaled = np.zeros(4096)\n",
    "phase_scaled = np.zeros(4096)\n",
    "max_k = np.zeros(4096)\n",
    "min_n = np.zeros(4096)\n",
    "\n",
    "for i in range(4096):\n",
    "    mag_scaled[i] = re_scaled[i]**2 + im_scaled[i]**2\n",
    "    max_k[i] = int(max_k_min_n[i])//(2**6)\n",
    "    min_n[i] = int(max_k_min_n[i]) & (2**6 - 1)\n",
    "    if i < 4096-28:\n",
    "        phase_scaled[i] = phase_hex_to_float(int(phase[i+28]))\n",
    "        \n",
    "low_bin = 0\n",
    "hi_bin = 128\n",
    "plt.figure()\n",
    "plt.plot(range(low_bin, hi_bin), re_scaled[low_bin:hi_bin])\n",
    "plt.plot(range(low_bin, hi_bin), im_scaled[low_bin:hi_bin])\n",
    "plt.show()\n",
    "\n",
    "fig, ax1 = plt.subplots()\n",
    "ax2 = ax1.twinx()\n",
    "ax1.plot(range(low_bin, hi_bin), mag_scaled[low_bin:hi_bin], color='tab:blue')\n",
    "ax2.plot(range(low_bin, hi_bin), phase_scaled[low_bin:hi_bin], color='tab:orange')\n",
    "plt.show()\n",
    "\n",
    "low_bin = 0\n",
    "hi_bin = 4096\n",
    "plt.figure()\n",
    "plt.plot(range(low_bin, hi_bin), max_k[low_bin:hi_bin])\n",
    "plt.plot(range(low_bin, hi_bin), min_n[low_bin:hi_bin])\n",
    "plt.show()"
   ]
  },
  {
   "cell_type": "code",
   "execution_count": 78,
   "metadata": {},
   "outputs": [
    {
     "name": "stdout",
     "output_type": "stream",
     "text": [
      "0b10010001\n"
     ]
    }
   ],
   "source": [
    "print(bin(int(max_k_min_n[0])))"
   ]
  },
  {
   "cell_type": "code",
   "execution_count": 105,
   "metadata": {},
   "outputs": [
    {
     "name": "stdout",
     "output_type": "stream",
     "text": [
      "3\n",
      "234.375\n",
      "189.893603325\n"
     ]
    },
    {
     "data": {
      "text/plain": [
       "-4.525531768798828"
      ]
     },
     "execution_count": 105,
     "metadata": {},
     "output_type": "execute_result"
    }
   ],
   "source": [
    "maxk = 5\n",
    "start = 0\n",
    "n = (phase_scaled[maxk+start]-phase_scaled[maxk+start+1024]) + 512/1024*maxk\n",
    "n_rounded = int(round(n))\n",
    "print(n_rounded)\n",
    "fund = (phase_scaled[maxk+start+1024]-phase_scaled[maxk+start]+n_rounded)/(512/48000)\n",
    "print(maxk/1024*48000)\n",
    "print(fund)\n",
    "\n",
    "int(phase[maxk+start] - phase[maxk+start+1024] + 512/1024*(maxk * 2**21))/(2**21)"
   ]
  },
  {
   "cell_type": "code",
   "execution_count": null,
   "metadata": {},
   "outputs": [],
   "source": []
  }
 ],
 "metadata": {
  "kernelspec": {
   "display_name": "Python 3",
   "language": "python",
   "name": "python3"
  },
  "language_info": {
   "codemirror_mode": {
    "name": "ipython",
    "version": 3
   },
   "file_extension": ".py",
   "mimetype": "text/x-python",
   "name": "python",
   "nbconvert_exporter": "python",
   "pygments_lexer": "ipython3",
   "version": "3.6.5"
  }
 },
 "nbformat": 4,
 "nbformat_minor": 2
}
